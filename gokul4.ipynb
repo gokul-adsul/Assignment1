{
  "nbformat": 4,
  "nbformat_minor": 0,
  "metadata": {
    "colab": {
      "name": "gokul4.ipynb",
      "provenance": [],
      "authorship_tag": "ABX9TyPjMai9tqJwzyMaZ9fwl0Bm",
      "include_colab_link": true
    },
    "kernelspec": {
      "name": "python3",
      "display_name": "Python 3"
    },
    "language_info": {
      "name": "python"
    }
  },
  "cells": [
    {
      "cell_type": "markdown",
      "metadata": {
        "id": "view-in-github",
        "colab_type": "text"
      },
      "source": [
        "<a href=\"https://colab.research.google.com/github/gokuladsul/Assignment1/blob/main/gokul4.ipynb\" target=\"_parent\"><img src=\"https://colab.research.google.com/assets/colab-badge.svg\" alt=\"Open In Colab\"/></a>"
      ]
    },
    {
      "cell_type": "code",
      "metadata": {
        "id": "ramrOODI_IHh"
      },
      "source": [
        "# Project\n",
        "# Name:- Adsul Gokul Babasaheb\n",
        "# Date:- 30/07/2021\n",
        "# Email:- 2019bme019@sggs.ac.in\n",
        "# celsius to fahrenheit"
      ],
      "execution_count": null,
      "outputs": []
    },
    {
      "cell_type": "code",
      "metadata": {
        "colab": {
          "base_uri": "https://localhost:8080/"
        },
        "id": "1CKyxwtFB5KF",
        "outputId": "4ae3d14d-c607-4851-a395-a9ba4fd3ed3e"
      },
      "source": [
        "celsius = float(input('Enter temperature in Celsius: '))  \n",
        "   \n",
        "fahrenheit = (celsius * 1.8) + 32  \n",
        "print('%0.1f  Celsius is equal to %0.1f degree Fahrenheit'%(celsius,fahrenheit))"
      ],
      "execution_count": 2,
      "outputs": [
        {
          "output_type": "stream",
          "text": [
            "Enter temperature in Celsius: 50\n",
            "50.0  Celsius is equal to 122.0 degree Fahrenheit\n"
          ],
          "name": "stdout"
        }
      ]
    }
  ]
}