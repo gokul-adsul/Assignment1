{
  "nbformat": 4,
  "nbformat_minor": 0,
  "metadata": {
    "colab": {
      "name": "gokul1.ipynb",
      "provenance": [],
      "authorship_tag": "ABX9TyMev+c9GpmlOR4Im4SomQek",
      "include_colab_link": true
    },
    "kernelspec": {
      "name": "python3",
      "display_name": "Python 3"
    },
    "language_info": {
      "name": "python"
    }
  },
  "cells": [
    {
      "cell_type": "markdown",
      "metadata": {
        "id": "view-in-github",
        "colab_type": "text"
      },
      "source": [
        "<a href=\"https://colab.research.google.com/github/gokuladsul/Assignment1/blob/main/gokul1.ipynb\" target=\"_parent\"><img src=\"https://colab.research.google.com/assets/colab-badge.svg\" alt=\"Open In Colab\"/></a>"
      ]
    },
    {
      "cell_type": "code",
      "metadata": {
        "id": "CTB1Cd1Ty_v_"
      },
      "source": [
        "# Assignment1\n",
        "# Name:- Adsul Gokul babasaheb\n",
        "# Date:- 27/07/2021\n",
        "# Email:- 2019bme019@sggs.ac.in\n",
        "# Reverse a list\n"
      ],
      "execution_count": null,
      "outputs": []
    },
    {
      "cell_type": "code",
      "metadata": {
        "colab": {
          "base_uri": "https://localhost:8080/"
        },
        "id": "CFH9u3Gi0XsZ",
        "outputId": "21ef6589-33b6-4c35-deb3-7e83c7409e44"
      },
      "source": [
        "x = [int(i) for i in input(\"Enter values: \").split()]\n",
        "print(x)\n",
        "x.sort(reverse=True)\n",
        "print(x)\n"
      ],
      "execution_count": null,
      "outputs": [
        {
          "output_type": "stream",
          "text": [
            "Enter values: 10 20 30 40 50\n",
            "[10, 20, 30, 40, 50]\n",
            "[50, 40, 30, 20, 10]\n"
          ],
          "name": "stdout"
        }
      ]
    }
  ]
}