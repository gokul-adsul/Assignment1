{
  "nbformat": 4,
  "nbformat_minor": 0,
  "metadata": {
    "colab": {
      "name": "gokul3.ipynb",
      "provenance": [],
      "authorship_tag": "ABX9TyMzcwcTe8+CnL75BviuqOsK",
      "include_colab_link": true
    },
    "kernelspec": {
      "name": "python3",
      "display_name": "Python 3"
    },
    "language_info": {
      "name": "python"
    }
  },
  "cells": [
    {
      "cell_type": "markdown",
      "metadata": {
        "id": "view-in-github",
        "colab_type": "text"
      },
      "source": [
        "<a href=\"https://colab.research.google.com/github/gokuladsul/Assignment1/blob/main/gokul3.ipynb\" target=\"_parent\"><img src=\"https://colab.research.google.com/assets/colab-badge.svg\" alt=\"Open In Colab\"/></a>"
      ]
    },
    {
      "cell_type": "code",
      "metadata": {
        "id": "A5tOxIEhFAUI"
      },
      "source": [
        "# Assignment3\n",
        "# Name:- Adsul Gokul Babasaheb\n",
        "# Date:-27/07/2021\n",
        "# Email:- 2019bme019@sggs.ac.in\n",
        "# list of gifts given to the respective persons"
      ],
      "execution_count": null,
      "outputs": []
    },
    {
      "cell_type": "code",
      "metadata": {
        "colab": {
          "base_uri": "https://localhost:8080/"
        },
        "id": "3yedYQJNFiZ_",
        "outputId": "b80793fa-dd49-4b6f-b7e1-3d747b9e2fd2"
      },
      "source": [
        "person_list={'1':2, '2':1, '3':4, '4':5, '5':3}\n",
        "print(person_list.values())"
      ],
      "execution_count": 3,
      "outputs": [
        {
          "output_type": "stream",
          "text": [
            "dict_values([2, 1, 4, 5, 3])\n"
          ],
          "name": "stdout"
        }
      ]
    },
    {
      "cell_type": "code",
      "metadata": {
        "colab": {
          "base_uri": "https://localhost:8080/"
        },
        "id": "CilmX8YbFrzN",
        "outputId": "622f97a0-c2da-402e-9915-436f0aec71e0"
      },
      "source": [
        "person_list={1:2, 2:1, 3:4, 4:5, 5:3, 3:2}\n",
        "print(sorted(person_list))"
      ],
      "execution_count": 4,
      "outputs": [
        {
          "output_type": "stream",
          "text": [
            "[1, 2, 3, 4, 5]\n"
          ],
          "name": "stdout"
        }
      ]
    }
  ]
}