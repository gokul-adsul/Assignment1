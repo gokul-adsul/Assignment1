{
  "nbformat": 4,
  "nbformat_minor": 0,
  "metadata": {
    "colab": {
      "name": "Python and Data Science Day1.ipynb",
      "provenance": [],
      "authorship_tag": "ABX9TyMZxqJ22c9GH8DpdzSEBO2Y",
      "include_colab_link": true
    },
    "kernelspec": {
      "name": "python3",
      "display_name": "Python 3"
    },
    "language_info": {
      "name": "python"
    }
  },
  "cells": [
    {
      "cell_type": "markdown",
      "metadata": {
        "id": "view-in-github",
        "colab_type": "text"
      },
      "source": [
        "<a href=\"https://colab.research.google.com/github/gokuladsul/Assignment1/blob/main/Python_and_Data_Science_Day1.ipynb\" target=\"_parent\"><img src=\"https://colab.research.google.com/assets/colab-badge.svg\" alt=\"Open In Colab\"/></a>"
      ]
    },
    {
      "cell_type": "markdown",
      "metadata": {
        "id": "HlpFSExtqCXT"
      },
      "source": [
        "Python and Data Science\n",
        "\n",
        "Assignment for Day-1 \n",
        "\n",
        "Name-Adsul Gokul Babasaheb\n",
        "Email-2019bme019@sggs.ac.in\n",
        "Date-02/08/2021"
      ]
    },
    {
      "cell_type": "code",
      "metadata": {
        "id": "eupOfORzp9B4"
      },
      "source": [
        "import numpy as np\n",
        "import pandas as pd"
      ],
      "execution_count": null,
      "outputs": []
    },
    {
      "cell_type": "markdown",
      "metadata": {
        "id": "gRcSH8eN3tSK"
      },
      "source": [
        "Question-1:\n",
        "\n",
        "After running the following code, what does the variable bacon contain?"
      ]
    },
    {
      "cell_type": "code",
      "metadata": {
        "colab": {
          "base_uri": "https://localhost:8080/"
        },
        "id": "xtaxQZXm4I4D",
        "outputId": "43ad41d1-3362-4725-ecbb-a1e811f678ef"
      },
      "source": [
        "bacon = 22\n",
        "bacon = bacon + 1\n",
        "print(bacon)"
      ],
      "execution_count": null,
      "outputs": [
        {
          "output_type": "stream",
          "text": [
            "23\n"
          ],
          "name": "stdout"
        }
      ]
    },
    {
      "cell_type": "markdown",
      "metadata": {
        "id": "lTCSEIQY4sej"
      },
      "source": [
        "Question-2:\n",
        "\n",
        "What should the values of following two term be?"
      ]
    },
    {
      "cell_type": "code",
      "metadata": {
        "colab": {
          "base_uri": "https://localhost:8080/"
        },
        "id": "OpL2ltdm4RfG",
        "outputId": "465b4bc5-0ba1-404d-c082-965f58dc7397"
      },
      "source": [
        "a = 'spam' + 'spamspam'\n",
        "b = 'spam'*3\n",
        "if a == b:\n",
        "  print(\"Both are equal and the value of both a and b is\",a)\n",
        "else:\n",
        "  print(\"Both are not equal and the values of a\",a,\"and b\",b)"
      ],
      "execution_count": null,
      "outputs": [
        {
          "output_type": "stream",
          "text": [
            "Both are equal and the value of both a and b is spamspamspam\n"
          ],
          "name": "stdout"
        }
      ]
    },
    {
      "cell_type": "markdown",
      "metadata": {
        "id": "HMxm77go6Ol4"
      },
      "source": [
        "Question-3:\n",
        "\n",
        "How can you tell the difference between break and cotinue?\n",
        "\n",
        "Break - Break leaves the loop completly and excutes the statements after the loop. Break completely exits the loop."
      ]
    },
    {
      "cell_type": "code",
      "metadata": {
        "colab": {
          "base_uri": "https://localhost:8080/"
        },
        "id": "-mfNOo5R7FCg",
        "outputId": "44f63062-f4db-4606-bdf3-754ba3261dfa"
      },
      "source": [
        "for i in range(15):\n",
        "  if i == 10:\n",
        "    break \n",
        "  else:\n",
        "    print(i)"
      ],
      "execution_count": null,
      "outputs": [
        {
          "output_type": "stream",
          "text": [
            "0\n",
            "1\n",
            "2\n",
            "3\n",
            "4\n",
            "5\n",
            "6\n",
            "7\n",
            "8\n",
            "9\n"
          ],
          "name": "stdout"
        }
      ]
    },
    {
      "cell_type": "markdown",
      "metadata": {
        "id": "jNt_IcVV7zBN"
      },
      "source": [
        "Continue - Continue leaves the current iteration and executes with the next value in the loop. Continue skips the statements after the continue statement and keeps looping."
      ]
    },
    {
      "cell_type": "code",
      "metadata": {
        "colab": {
          "base_uri": "https://localhost:8080/"
        },
        "id": "AsPQ3Gf07wDj",
        "outputId": "6d36a607-441c-4762-821c-a0508bbc57ba"
      },
      "source": [
        "for i in range(15):\n",
        "  if i == 10:\n",
        "    continue\n",
        "  else:\n",
        "    print(i)"
      ],
      "execution_count": null,
      "outputs": [
        {
          "output_type": "stream",
          "text": [
            "0\n",
            "1\n",
            "2\n",
            "3\n",
            "4\n",
            "5\n",
            "6\n",
            "7\n",
            "8\n",
            "9\n",
            "11\n",
            "12\n",
            "13\n",
            "14\n"
          ],
          "name": "stdout"
        }
      ]
    },
    {
      "cell_type": "markdown",
      "metadata": {
        "id": "4lxGYgj29UB0"
      },
      "source": [
        "Question-4:\n",
        "\n",
        "In a for loop, what is the differance between range(10), range(0,10), and range(0,10,1)?\n",
        "\n",
        "The output for all three codes is similar as the starting point is '0' so it may or may not be shown and steps between the two numbers can be coded using the last part and it may or may not be mentioned for a single step."
      ]
    },
    {
      "cell_type": "code",
      "metadata": {
        "colab": {
          "base_uri": "https://localhost:8080/"
        },
        "id": "36mXc9It_xIH",
        "outputId": "458b4cef-56bf-4e81-ad6f-3ebd12ad95da"
      },
      "source": [
        "for i in range(10):\n",
        "  if i == i + 1:\n",
        "    print(\"Range of 10 completed\")\n",
        "  else:\n",
        "    print(i)"
      ],
      "execution_count": null,
      "outputs": [
        {
          "output_type": "stream",
          "text": [
            "0\n",
            "1\n",
            "2\n",
            "3\n",
            "4\n",
            "5\n",
            "6\n",
            "7\n",
            "8\n",
            "9\n"
          ],
          "name": "stdout"
        }
      ]
    },
    {
      "cell_type": "code",
      "metadata": {
        "colab": {
          "base_uri": "https://localhost:8080/"
        },
        "id": "DZHWsce8A9Fb",
        "outputId": "468d3033-3946-4a83-bed7-4598758060b8"
      },
      "source": [
        "for i in range(0,10):\n",
        "  if i == i + 1:\n",
        "    print(\"Range of 10 completed\")\n",
        "  else:\n",
        "    print(i)"
      ],
      "execution_count": null,
      "outputs": [
        {
          "output_type": "stream",
          "text": [
            "0\n",
            "1\n",
            "2\n",
            "3\n",
            "4\n",
            "5\n",
            "6\n",
            "7\n",
            "8\n",
            "9\n"
          ],
          "name": "stdout"
        }
      ]
    },
    {
      "cell_type": "code",
      "metadata": {
        "colab": {
          "base_uri": "https://localhost:8080/"
        },
        "id": "GM6X1u5OBX1W",
        "outputId": "bf2120b8-bff8-4c9c-d9ba-ab860194aeec"
      },
      "source": [
        "for i in range(0,10,1):\n",
        "  if i == i + 1:\n",
        "    print(\"Range of 10 completed\")\n",
        "  else:\n",
        "    print(i)"
      ],
      "execution_count": null,
      "outputs": [
        {
          "output_type": "stream",
          "text": [
            "0\n",
            "1\n",
            "2\n",
            "3\n",
            "4\n",
            "5\n",
            "6\n",
            "7\n",
            "8\n",
            "9\n"
          ],
          "name": "stdout"
        }
      ]
    },
    {
      "cell_type": "markdown",
      "metadata": {
        "id": "5MKC-1Qx7x_E"
      },
      "source": [
        "Question-5:\n",
        "\n",
        "Using a for loop, write a short programme that prints the numbers 1 to 10. Then using a while loop, create an identical programme that prints the numbers 1 to 10."
      ]
    },
    {
      "cell_type": "code",
      "metadata": {
        "colab": {
          "base_uri": "https://localhost:8080/"
        },
        "id": "basUZMp2CM0h",
        "outputId": "fc2cf17f-e17a-41b0-a5fc-6a4f91b6cb53"
      },
      "source": [
        "# for loop\n",
        "for i in range(1,11):\n",
        "  print(i)"
      ],
      "execution_count": null,
      "outputs": [
        {
          "output_type": "stream",
          "text": [
            "1\n",
            "2\n",
            "3\n",
            "4\n",
            "5\n",
            "6\n",
            "7\n",
            "8\n",
            "9\n",
            "10\n"
          ],
          "name": "stdout"
        }
      ]
    },
    {
      "cell_type": "code",
      "metadata": {
        "colab": {
          "base_uri": "https://localhost:8080/"
        },
        "id": "W_5U0rIaCQBi",
        "outputId": "60b40142-ce83-476d-92b8-b76510bfa37f"
      },
      "source": [
        "# while loop\n",
        "i = 0\n",
        "while(i<=9):\n",
        "  i = i + 1\n",
        "  print(i)\n"
      ],
      "execution_count": null,
      "outputs": [
        {
          "output_type": "stream",
          "text": [
            "1\n",
            "2\n",
            "3\n",
            "4\n",
            "5\n",
            "6\n",
            "7\n",
            "8\n",
            "9\n",
            "10\n"
          ],
          "name": "stdout"
        }
      ]
    },
    {
      "cell_type": "markdown",
      "metadata": {
        "id": "nOr0E_xsC2v3"
      },
      "source": [
        "Question-6:\n",
        "\n",
        "Given a number x, determine whether the given number is Armstrong number or not.\n",
        "\n",
        "Input: 153\n",
        "\n",
        "Output: Yes, 153 is an Armstrong number."
      ]
    },
    {
      "cell_type": "code",
      "metadata": {
        "colab": {
          "base_uri": "https://localhost:8080/"
        },
        "id": "ICNxNRIsFASC",
        "outputId": "875abac4-423f-4d8d-c549-d3a9be9f9438"
      },
      "source": [
        "num = int(input(\"Enter a number: \"))\n",
        "sum = 0\n",
        "temp = num\n",
        "while temp > 0:\n",
        "   digit = temp % 10\n",
        "   sum += digit ** 3\n",
        "   temp //= 10\n",
        "   \n",
        "if num == sum:\n",
        "   print(\"Yes,\", num, \"is an Armstrong number\")\n",
        "else:\n",
        "   print(\"No,\", num, \"is not an Armstrong number\")"
      ],
      "execution_count": null,
      "outputs": [
        {
          "output_type": "stream",
          "text": [
            "Enter a number: 153\n",
            "Yes, 153 is an Armstrong number\n"
          ],
          "name": "stdout"
        }
      ]
    },
    {
      "cell_type": "markdown",
      "metadata": {
        "id": "NCwVLQCHG48T"
      },
      "source": [
        "Question-7:\n",
        "\n",
        "Program to find sum of squares of first n natural numbers."
      ]
    },
    {
      "cell_type": "code",
      "metadata": {
        "colab": {
          "base_uri": "https://localhost:8080/"
        },
        "id": "eQJfvW-VCvWQ",
        "outputId": "14beae24-ddda-4d05-aa0b-f026ec8f1257"
      },
      "source": [
        "def squaresum(n):\n",
        "  a = 0\n",
        "  for i in range(1,n+1):\n",
        "    a = a + (i*i)\n",
        "  return a\n",
        "n = int(input(\"Enter the number of which you need the sum of squares: \"))\n",
        "print(squaresum(n))"
      ],
      "execution_count": null,
      "outputs": [
        {
          "output_type": "stream",
          "text": [
            "Enter the number of which you need the sum of squares: 5\n",
            "55\n"
          ],
          "name": "stdout"
        }
      ]
    },
    {
      "cell_type": "markdown",
      "metadata": {
        "id": "4l4dEf-zHqUT"
      },
      "source": [
        "Question-8:\n",
        "\n",
        "Program to Reverse words in a given String in Python."
      ]
    },
    {
      "cell_type": "code",
      "metadata": {
        "colab": {
          "base_uri": "https://localhost:8080/"
        },
        "id": "0XeQCWrhH2mY",
        "outputId": "72d931a2-61f7-483c-e948-fea3c6db66b3"
      },
      "source": [
        "def rev(sentence):  \n",
        "    words = sentence.split(' ')  \n",
        "    reverse_sentence = ' '.join(reversed(words))\n",
        "    return reverse_sentence \n",
        "if __name__ == \"__main__\": \n",
        "    input = \" I'm an engineering student keen on learning new technologies and keep growing .\"\n",
        "    print (rev(input))"
      ],
      "execution_count": null,
      "outputs": [
        {
          "output_type": "stream",
          "text": [
            ". growing keep and technologies new learning on keen student engineering an I'm \n"
          ],
          "name": "stdout"
        }
      ]
    },
    {
      "cell_type": "markdown",
      "metadata": {
        "id": "RfLwJ7tuLgpE"
      },
      "source": [
        "Question-9:\n",
        "\n",
        "Given a list of numbers, write a Python program to find the sum of all the elements in the list."
      ]
    },
    {
      "cell_type": "code",
      "metadata": {
        "id": "KEU6uPWLTXQS"
      },
      "source": [
        "list = []\n",
        "num = int(input('How many numbers: '))\n",
        "for n in range(num):\n",
        "    numbers = int(input('Enter number '))\n",
        "    list.append(numbers)\n",
        "print(\"Sum of elements in given list is :\", sum(list))"
      ],
      "execution_count": null,
      "outputs": []
    },
    {
      "cell_type": "markdown",
      "metadata": {
        "id": "6MjI-9aPTYyM"
      },
      "source": [
        "Question-10:\n",
        "\n",
        "Write a Python program to print all even numbers between 10-1000."
      ]
    },
    {
      "cell_type": "code",
      "metadata": {
        "colab": {
          "base_uri": "https://localhost:8080/"
        },
        "id": "oNhzJO1SS0wG",
        "outputId": "45b7b1aa-92c6-420a-da18-dcb193bcc849"
      },
      "source": [
        "a,b = 10,1000\n",
        "\n",
        "for num in range(a,b + 1):\n",
        "    if num % 2 == 0:\n",
        "        print(num)"
      ],
      "execution_count": 42,
      "outputs": [
        {
          "output_type": "stream",
          "text": [
            "10\n",
            "12\n",
            "14\n",
            "16\n",
            "18\n",
            "20\n",
            "22\n",
            "24\n",
            "26\n",
            "28\n",
            "30\n",
            "32\n",
            "34\n",
            "36\n",
            "38\n",
            "40\n",
            "42\n",
            "44\n",
            "46\n",
            "48\n",
            "50\n",
            "52\n",
            "54\n",
            "56\n",
            "58\n",
            "60\n",
            "62\n",
            "64\n",
            "66\n",
            "68\n",
            "70\n",
            "72\n",
            "74\n",
            "76\n",
            "78\n",
            "80\n",
            "82\n",
            "84\n",
            "86\n",
            "88\n",
            "90\n",
            "92\n",
            "94\n",
            "96\n",
            "98\n",
            "100\n",
            "102\n",
            "104\n",
            "106\n",
            "108\n",
            "110\n",
            "112\n",
            "114\n",
            "116\n",
            "118\n",
            "120\n",
            "122\n",
            "124\n",
            "126\n",
            "128\n",
            "130\n",
            "132\n",
            "134\n",
            "136\n",
            "138\n",
            "140\n",
            "142\n",
            "144\n",
            "146\n",
            "148\n",
            "150\n",
            "152\n",
            "154\n",
            "156\n",
            "158\n",
            "160\n",
            "162\n",
            "164\n",
            "166\n",
            "168\n",
            "170\n",
            "172\n",
            "174\n",
            "176\n",
            "178\n",
            "180\n",
            "182\n",
            "184\n",
            "186\n",
            "188\n",
            "190\n",
            "192\n",
            "194\n",
            "196\n",
            "198\n",
            "200\n",
            "202\n",
            "204\n",
            "206\n",
            "208\n",
            "210\n",
            "212\n",
            "214\n",
            "216\n",
            "218\n",
            "220\n",
            "222\n",
            "224\n",
            "226\n",
            "228\n",
            "230\n",
            "232\n",
            "234\n",
            "236\n",
            "238\n",
            "240\n",
            "242\n",
            "244\n",
            "246\n",
            "248\n",
            "250\n",
            "252\n",
            "254\n",
            "256\n",
            "258\n",
            "260\n",
            "262\n",
            "264\n",
            "266\n",
            "268\n",
            "270\n",
            "272\n",
            "274\n",
            "276\n",
            "278\n",
            "280\n",
            "282\n",
            "284\n",
            "286\n",
            "288\n",
            "290\n",
            "292\n",
            "294\n",
            "296\n",
            "298\n",
            "300\n",
            "302\n",
            "304\n",
            "306\n",
            "308\n",
            "310\n",
            "312\n",
            "314\n",
            "316\n",
            "318\n",
            "320\n",
            "322\n",
            "324\n",
            "326\n",
            "328\n",
            "330\n",
            "332\n",
            "334\n",
            "336\n",
            "338\n",
            "340\n",
            "342\n",
            "344\n",
            "346\n",
            "348\n",
            "350\n",
            "352\n",
            "354\n",
            "356\n",
            "358\n",
            "360\n",
            "362\n",
            "364\n",
            "366\n",
            "368\n",
            "370\n",
            "372\n",
            "374\n",
            "376\n",
            "378\n",
            "380\n",
            "382\n",
            "384\n",
            "386\n",
            "388\n",
            "390\n",
            "392\n",
            "394\n",
            "396\n",
            "398\n",
            "400\n",
            "402\n",
            "404\n",
            "406\n",
            "408\n",
            "410\n",
            "412\n",
            "414\n",
            "416\n",
            "418\n",
            "420\n",
            "422\n",
            "424\n",
            "426\n",
            "428\n",
            "430\n",
            "432\n",
            "434\n",
            "436\n",
            "438\n",
            "440\n",
            "442\n",
            "444\n",
            "446\n",
            "448\n",
            "450\n",
            "452\n",
            "454\n",
            "456\n",
            "458\n",
            "460\n",
            "462\n",
            "464\n",
            "466\n",
            "468\n",
            "470\n",
            "472\n",
            "474\n",
            "476\n",
            "478\n",
            "480\n",
            "482\n",
            "484\n",
            "486\n",
            "488\n",
            "490\n",
            "492\n",
            "494\n",
            "496\n",
            "498\n",
            "500\n",
            "502\n",
            "504\n",
            "506\n",
            "508\n",
            "510\n",
            "512\n",
            "514\n",
            "516\n",
            "518\n",
            "520\n",
            "522\n",
            "524\n",
            "526\n",
            "528\n",
            "530\n",
            "532\n",
            "534\n",
            "536\n",
            "538\n",
            "540\n",
            "542\n",
            "544\n",
            "546\n",
            "548\n",
            "550\n",
            "552\n",
            "554\n",
            "556\n",
            "558\n",
            "560\n",
            "562\n",
            "564\n",
            "566\n",
            "568\n",
            "570\n",
            "572\n",
            "574\n",
            "576\n",
            "578\n",
            "580\n",
            "582\n",
            "584\n",
            "586\n",
            "588\n",
            "590\n",
            "592\n",
            "594\n",
            "596\n",
            "598\n",
            "600\n",
            "602\n",
            "604\n",
            "606\n",
            "608\n",
            "610\n",
            "612\n",
            "614\n",
            "616\n",
            "618\n",
            "620\n",
            "622\n",
            "624\n",
            "626\n",
            "628\n",
            "630\n",
            "632\n",
            "634\n",
            "636\n",
            "638\n",
            "640\n",
            "642\n",
            "644\n",
            "646\n",
            "648\n",
            "650\n",
            "652\n",
            "654\n",
            "656\n",
            "658\n",
            "660\n",
            "662\n",
            "664\n",
            "666\n",
            "668\n",
            "670\n",
            "672\n",
            "674\n",
            "676\n",
            "678\n",
            "680\n",
            "682\n",
            "684\n",
            "686\n",
            "688\n",
            "690\n",
            "692\n",
            "694\n",
            "696\n",
            "698\n",
            "700\n",
            "702\n",
            "704\n",
            "706\n",
            "708\n",
            "710\n",
            "712\n",
            "714\n",
            "716\n",
            "718\n",
            "720\n",
            "722\n",
            "724\n",
            "726\n",
            "728\n",
            "730\n",
            "732\n",
            "734\n",
            "736\n",
            "738\n",
            "740\n",
            "742\n",
            "744\n",
            "746\n",
            "748\n",
            "750\n",
            "752\n",
            "754\n",
            "756\n",
            "758\n",
            "760\n",
            "762\n",
            "764\n",
            "766\n",
            "768\n",
            "770\n",
            "772\n",
            "774\n",
            "776\n",
            "778\n",
            "780\n",
            "782\n",
            "784\n",
            "786\n",
            "788\n",
            "790\n",
            "792\n",
            "794\n",
            "796\n",
            "798\n",
            "800\n",
            "802\n",
            "804\n",
            "806\n",
            "808\n",
            "810\n",
            "812\n",
            "814\n",
            "816\n",
            "818\n",
            "820\n",
            "822\n",
            "824\n",
            "826\n",
            "828\n",
            "830\n",
            "832\n",
            "834\n",
            "836\n",
            "838\n",
            "840\n",
            "842\n",
            "844\n",
            "846\n",
            "848\n",
            "850\n",
            "852\n",
            "854\n",
            "856\n",
            "858\n",
            "860\n",
            "862\n",
            "864\n",
            "866\n",
            "868\n",
            "870\n",
            "872\n",
            "874\n",
            "876\n",
            "878\n",
            "880\n",
            "882\n",
            "884\n",
            "886\n",
            "888\n",
            "890\n",
            "892\n",
            "894\n",
            "896\n",
            "898\n",
            "900\n",
            "902\n",
            "904\n",
            "906\n",
            "908\n",
            "910\n",
            "912\n",
            "914\n",
            "916\n",
            "918\n",
            "920\n",
            "922\n",
            "924\n",
            "926\n",
            "928\n",
            "930\n",
            "932\n",
            "934\n",
            "936\n",
            "938\n",
            "940\n",
            "942\n",
            "944\n",
            "946\n",
            "948\n",
            "950\n",
            "952\n",
            "954\n",
            "956\n",
            "958\n",
            "960\n",
            "962\n",
            "964\n",
            "966\n",
            "968\n",
            "970\n",
            "972\n",
            "974\n",
            "976\n",
            "978\n",
            "980\n",
            "982\n",
            "984\n",
            "986\n",
            "988\n",
            "990\n",
            "992\n",
            "994\n",
            "996\n",
            "998\n",
            "1000\n"
          ],
          "name": "stdout"
        }
      ]
    }
  ]
}